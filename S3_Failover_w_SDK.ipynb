{
 "cells": [
  {
   "cell_type": "markdown",
   "metadata": {},
   "source": [
    "# Python with BOTO3 and OneFS Platform API for S3 Failover"
   ]
  },
  {
   "cell_type": "markdown",
   "metadata": {},
   "source": [
    "**Assumptions:**\n",
    "1. S3 is configured and enabled on both clusters\n",
    "2. buckets are configured on both clusters\n",
    "3. users are equally created on both clusters\n",
    "4. S3 Users are configured with the following RBAC Permission ISI_PRIV_LOGIN_PAPI and (ptional) ISI_PRIV_NS_IFS_ACCESS\n",
    "5. each user has already S3 Keys generated on both clusters\n",
    "   If not the Function newS3Key() below can be used to generate them.\n",
    "6. S3 Buckets are equally set up on both clusters"
   ]
  },
  {
   "cell_type": "markdown",
   "metadata": {},
   "source": [
    "## Setup and Requirements"
   ]
  },
  {
   "cell_type": "code",
   "execution_count": 3,
   "metadata": {},
   "outputs": [],
   "source": [
    "# Requirements\n",
    "import boto3\n",
    "import urllib3\n",
    "from pprint import pprint\n",
    "\n",
    "# isi_sdk \n",
    "from __future__ import print_function\n",
    "import time\n",
    "import isi_sdk_9_1_0\n",
    "from isi_sdk_9_1_0.rest import ApiException\n",
    "\n",
    "# Disable SSL selfsigned certificate warnings\n",
    "urllib3.disable_warnings(urllib3.exceptions.InsecureRequestWarning)"
   ]
  },
  {
   "cell_type": "code",
   "execution_count": 15,
   "metadata": {},
   "outputs": [],
   "source": [
    "# Config Variables OneFS\n",
    "myHost = '192.168.188.192' # source cluster\n",
    "#myHost = '192.168.188.201' # target cluster\n",
    "myEndpointURL = 'https://' + myHost + ':9021'\n",
    "OneFSUser = 'root'\n",
    "OneFSPw = 'a'"
   ]
  },
  {
   "cell_type": "markdown",
   "metadata": {},
   "source": [
    "## Get the S3 Keys using the OneFS SDK"
   ]
  },
  {
   "cell_type": "code",
   "execution_count": 7,
   "metadata": {},
   "outputs": [
    {
     "name": "stdout",
     "output_type": "stream",
     "text": [
      "{'keys': {'access_id': '1_root_accid',\n",
      "          'old_key_expiry': 1636711391,\n",
      "          'old_key_timestamp': 1636704440,\n",
      "          'old_secret_key': 'LcbUd7sU_J2BmD47giMrvACipsZj',\n",
      "          'secret_key': 'GzkYEoCnKn82Jn8pI2EFcQNAuNkf',\n",
      "          'secret_key_timestamp': 1636710791}}\n"
     ]
    }
   ],
   "source": [
    "def myS3keys(user, password, papiHost):\n",
    "    # Configure HTTP\n",
    "    configuration = isi_sdk_9_1_0.Configuration()\n",
    "    configuration.username = user\n",
    "    configuration.password = password\n",
    "    configuration.verify_ssl = False\n",
    "    configuration.host = \"https://\" + papiHost + \":8080\"\n",
    "\n",
    "    # create an instance of the API class\n",
    "    api_instance = isi_sdk_9_1_0.ProtocolsApi(isi_sdk_9_1_0.ApiClient(configuration))\n",
    "\n",
    "    try:\n",
    "        api_response = api_instance.list_s3_mykeys()\n",
    "    except ApiException as e:\n",
    "        print(\"Exception when calling ProtocolsApi->list_s3_mykeys: %s\\n\" % e)\n",
    "    else :\n",
    "        return api_response\n",
    "        \n",
    "my = myS3keys(OneFSUser, OneFSPw, myHost)\n",
    "pprint(my)\n",
    "myAccessID = my.keys.access_id\n",
    "mySecretKey = my.keys.secret_key"
   ]
  },
  {
   "cell_type": "markdown",
   "metadata": {},
   "source": [
    "## Generate a new S3 Key using the OneFS SDK"
   ]
  },
  {
   "cell_type": "code",
   "execution_count": 6,
   "metadata": {},
   "outputs": [
    {
     "name": "stdout",
     "output_type": "stream",
     "text": [
      "{'keys': {'access_id': '1_root_accid',\n",
      "          'old_key_expiry': 1636711391,\n",
      "          'old_key_timestamp': 1636704440,\n",
      "          'old_secret_key': 'LcbUd7sU_J2BmD47giMrvACipsZj',\n",
      "          'secret_key': 'GzkYEoCnKn82Jn8pI2EFcQNAuNkf',\n",
      "          'secret_key_timestamp': 1636710791}}\n"
     ]
    }
   ],
   "source": [
    "def newS3key(user, password, papiHost):\n",
    "    # Configure HTTP\n",
    "    configuration = isi_sdk_9_1_0.Configuration()\n",
    "    configuration.username = user\n",
    "    configuration.password = password\n",
    "    configuration.verify_ssl = False\n",
    "    configuration.host = \"https://\" + papiHost + \":8080\"\n",
    "\n",
    "    # create an instance of the API class\n",
    "    api_instance = isi_sdk_9_1_0.ProtocolsApi(isi_sdk_9_1_0.ApiClient(configuration))\n",
    "    s3_mykey = isi_sdk_9_1_0.S3Key() # S3Key | \n",
    "    force = True # bool | Forces to create new key. (optional)\n",
    "\n",
    "    try:\n",
    "        api_response = api_instance.create_s3_mykey(s3_mykey, force=force)\n",
    "    except ApiException as e:\n",
    "        print(\"Exception when calling ProtocolsApi->create_s3_mykey: %s\\n\" % e)\n",
    "    else :\n",
    "        return api_response\n",
    "        \n",
    "my = newS3key(OneFSUser, OneFSPw, myHost)\n",
    "pprint(my)\n",
    "myAccessID = my.keys.access_id\n",
    "mySecretKey = my.keys.secret_key"
   ]
  },
  {
   "cell_type": "markdown",
   "metadata": {},
   "source": [
    "## List objects with BOTO - lookup a new Key Pair in case of a authentication error...\n",
    "**Note: There are other reasons why an S3 call could return a 403 Error. => This is for demonstraion purpose only!** <br>\n",
    "It can be potentially dangerous to automatially get the keys and just retry with out further sanity checks. "
   ]
  },
  {
   "cell_type": "code",
   "execution_count": 17,
   "metadata": {},
   "outputs": [
    {
     "name": "stdout",
     "output_type": "stream",
     "text": [
      "{'Contents': [{'ETag': '\"d41d8cd98f00b204e9800998ecf8427e\"',\n",
      "               'Key': 'this_is_cluster_1',\n",
      "               'LastModified': datetime.datetime(2021, 11, 12, 8, 52, 17, tzinfo=tzutc()),\n",
      "               'Owner': {'DisplayName': 'root', 'ID': 'root'},\n",
      "               'Size': 0,\n",
      "               'StorageClass': 'STANDARD'}],\n",
      " 'IsTruncated': False,\n",
      " 'Marker': '',\n",
      " 'MaxKeys': 1000,\n",
      " 'Name': 'omnibot',\n",
      " 'Prefix': '',\n",
      " 'ResponseMetadata': {'HTTPHeaders': {'connection': 'keep-alive',\n",
      "                                      'content-length': '460',\n",
      "                                      'x-amz-request-id': '564950518'},\n",
      "                      'HTTPStatusCode': 200,\n",
      "                      'HostId': '',\n",
      "                      'RequestId': '564950518',\n",
      "                      'RetryAttempts': 0}}\n"
     ]
    }
   ],
   "source": [
    "def listObjects(myAccID, mySecret, myURL, bucket):\n",
    "    global myAccessID\n",
    "    global mySecretKey\n",
    "    # S3 Config\n",
    "    # disable unsigned SSL warning\n",
    "    urllib3.disable_warnings(urllib3.exceptions.InsecureRequestWarning)\n",
    "\n",
    "    from botocore import config\n",
    "    from botocore.exceptions import ClientError\n",
    "\n",
    "    my_config = config.Config(\n",
    "        region_name = \"\",\n",
    "        signature_version = 'v4',\n",
    "        retries = {\n",
    "            'max_attempts' : 10,\n",
    "            'mode' : 'standard'\n",
    "        }\n",
    "    )\n",
    "\n",
    "    # create a S3 Session Object\n",
    "    session = boto3.session.Session()\n",
    "\n",
    "    s3_client = session.client(\n",
    "        service_name='s3',\n",
    "        aws_access_key_id=myAccID,\n",
    "        aws_secret_access_key=mySecret,\n",
    "        endpoint_url=myURL,\n",
    "        use_ssl=True,\n",
    "        verify=False\n",
    "    )\n",
    "\n",
    "    try:\n",
    "        pprint(s3_client.list_objects(Bucket=bucket))\n",
    "    except ClientError as e:\n",
    "        eStatus = e.response['ResponseMetadata']['HTTPStatusCode']\n",
    "        print(e.response['Error']['Message'])\n",
    "        if eStatus == 403 :\n",
    "            print(\"Time to add the call to get a new key\")\n",
    "            my = myS3keys(OneFSUser, OneFSPw, myHost)\n",
    "            pprint(my)\n",
    "            myAccessID = my.keys.access_id\n",
    "            mySecretKey = my.keys.secret_key\n",
    "            listObjects(myAccessID, mySecretKey, myURL, bucket)\n",
    "\n",
    "listObjects(myAccessID, mySecretKey, myEndpointURL, 'omnibot')"
   ]
  }
 ],
 "metadata": {
  "interpreter": {
   "hash": "5c3b02fa24688d32a1d09351b7f8eac82a87272ad081601c73caead00a8e1fc4"
  },
  "kernelspec": {
   "display_name": "Python 2.7.18 64-bit",
   "language": "python",
   "name": "python3"
  },
  "language_info": {
   "codemirror_mode": {
    "name": "ipython",
    "version": 3
   },
   "file_extension": ".py",
   "mimetype": "text/x-python",
   "name": "python",
   "nbconvert_exporter": "python",
   "pygments_lexer": "ipython3",
   "version": "3.9.1"
  },
  "orig_nbformat": 4
 },
 "nbformat": 4,
 "nbformat_minor": 2
}
